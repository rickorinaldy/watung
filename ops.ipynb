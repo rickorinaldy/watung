{
 "cells": [
  {
   "cell_type": "code",
   "execution_count": 1,
   "metadata": {},
   "outputs": [],
   "source": [
    "import psycopg2\n",
    "import pandas as pd\n",
    "from config import config"
   ]
  },
  {
   "cell_type": "markdown",
   "metadata": {},
   "source": [
    "## Connection"
   ]
  },
  {
   "cell_type": "code",
   "execution_count": 2,
   "metadata": {},
   "outputs": [],
   "source": [
    "class ConDB:\n",
    "    def __init__(self):\n",
    "        params = config()\n",
    "        self.conn = psycopg2.connect(**params)\n",
    "        self.cur = self.conn.cursor()\n",
    "    \n",
    "    def excuse(self,sql):\n",
    "        try:\n",
    "            self.cur.execute(sql)\n",
    "        except:\n",
    "            self.__init__()\n",
    "            self.cur.execute(sql)\n",
    "    \n",
    "    def insert(self,nama,harga,modal,ukuran):\n",
    "        try:\n",
    "            self.excuse(f\"INSERT INTO accounts (nama,harga,modal,ukuran) VALUES ({nama},{harga},{modal},{ukuran})\")\n",
    "        except:\n",
    "            self.__init__()\n",
    "            self.excuse(f\"INSERT INTO accounts (nama,harga,modal,ukuran) VALUES ({nama},{harga},{modal},{ukuran})\")\n",
    "        finally:\n",
    "            self.conn.commit()\n",
    "            return \"Done\"\n",
    "\n",
    "    def get_data(self,part):\n",
    "        data = []\n",
    "        try:\n",
    "            self.excuse(\"SELECT * FROM test;\")\n",
    "            while True:\n",
    "                data_part = self.cur.fetchmany(part)\n",
    "                if len(data_part)==0:\n",
    "                    break\n",
    "                data.append(data_part)\n",
    "        except:\n",
    "            self.__init__()\n",
    "            self.excuse(\"SELECT * FROM test;\")\n",
    "            while True:\n",
    "                data_part = self.cur.fetchmany(part)\n",
    "                if len(data_part)==0:\n",
    "                    break\n",
    "                data.append(data_part)   \n",
    "        finally:\n",
    "            return data\n",
    "\n",
    "    def table(self,sql):\n",
    "        try:\n",
    "            table = pd.read_sql_query(sql, self.conn)\n",
    "            return table\n",
    "        except:\n",
    "            self.__init__()\n",
    "            table = pd.read_sql_query(sql, self.conn)\n",
    "            return table\n",
    "    \n",
    "    def shutdown(self):\n",
    "        self.cur.close()\n",
    "        self.conn.close()\n",
    "\n",
    "c = ConDB()\n",
    "c.__init__()"
   ]
  },
  {
   "cell_type": "markdown",
   "metadata": {},
   "source": [
    "## Operations"
   ]
  },
  {
   "cell_type": "markdown",
   "metadata": {},
   "source": [
    "#### Create Table"
   ]
  },
  {
   "cell_type": "code",
   "execution_count": 3,
   "metadata": {},
   "outputs": [],
   "source": [
    "sql = '''\n",
    "DROP TABLE accounts;\n",
    "'''\n",
    "\n",
    "c.excuse(sql)"
   ]
  },
  {
   "cell_type": "code",
   "execution_count": 4,
   "metadata": {},
   "outputs": [],
   "source": [
    "sql = '''\n",
    "CREATE TABLE accounts (\n",
    "\tIDs serial PRIMARY KEY,\n",
    "\tNAMA VARCHAR (100) UNIQUE NOT NULL,\n",
    "\tHARGA INT,\n",
    "    MODAL FLOAT (4),\n",
    "\tUKURAN VARCHAR (20),\n",
    "\tCREATED_AT TIMESTAMP WITH TIME ZONE DEFAULT CURRENT_TIMESTAMP\n",
    ");\n",
    "'''\n",
    "\n",
    "c.excuse(sql)"
   ]
  },
  {
   "cell_type": "code",
   "execution_count": 3,
   "metadata": {},
   "outputs": [],
   "source": [
    "a = c.table(\"SELECT * FROM accounts\")"
   ]
  },
  {
   "cell_type": "code",
   "execution_count": 5,
   "metadata": {},
   "outputs": [],
   "source": [
    "c.excuse(\"select * from accounts\")"
   ]
  },
  {
   "cell_type": "code",
   "execution_count": 7,
   "metadata": {},
   "outputs": [],
   "source": [
    "sql = '''\n",
    "INSERT INTO accounts (nama,harga,modal,ukuran) VALUES ('Karoman',1000,933,'satuan')\n",
    "'''\n",
    "\n",
    "c.excuse(sql)"
   ]
  },
  {
   "cell_type": "code",
   "execution_count": 7,
   "metadata": {},
   "outputs": [
    {
     "data": {
      "text/plain": [
       "['Karoman']"
      ]
     },
     "execution_count": 7,
     "metadata": {},
     "output_type": "execute_result"
    }
   ],
   "source": [
    "a[\"nama\"].to_list()"
   ]
  },
  {
   "cell_type": "code",
   "execution_count": null,
   "metadata": {},
   "outputs": [],
   "source": []
  }
 ],
 "metadata": {
  "interpreter": {
   "hash": "81a5a35b92a759579adb71b228a6409a5dad6b04ac10bf8b0ab53c78e0865508"
  },
  "kernelspec": {
   "display_name": "Python 3.7.9 32-bit",
   "language": "python",
   "name": "python3"
  },
  "language_info": {
   "codemirror_mode": {
    "name": "ipython",
    "version": 3
   },
   "file_extension": ".py",
   "mimetype": "text/x-python",
   "name": "python",
   "nbconvert_exporter": "python",
   "pygments_lexer": "ipython3",
   "version": "3.7.9"
  },
  "orig_nbformat": 4
 },
 "nbformat": 4,
 "nbformat_minor": 2
}
